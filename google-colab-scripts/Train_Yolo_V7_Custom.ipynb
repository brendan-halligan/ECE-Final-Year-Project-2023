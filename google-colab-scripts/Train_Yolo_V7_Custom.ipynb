from google.colab import drive

drive.mount("/content/gdrive")
%cd /content/gdrive/MyDrive/FYP
!git clone https://github.com/WongKinYiu/yolov7.git
%cd yolov7
!wget https://github.com/WongKinYiu/yolov7/releases/download/v0.1/yolov7x.pt
Train Model
!python train.py --device 0 --batch-size 8 --epochs 100 --img 640 640 --data data/custom_data.yaml --hyp data/hyp.scratch.custom.yaml --cfg cfg/training/yolov7x_custom.yaml --weights yolov7x.pt --name yolov7x_custom
Run best.pt
!python detect.py --weights runs/train/yolov7x_custom3/weights/best.pt --conf 0.5 --img-size 640 --source Test_Footage.mp4 --no-trace
